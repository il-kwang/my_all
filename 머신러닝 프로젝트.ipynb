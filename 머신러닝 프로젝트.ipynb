{
 "cells": [
  {
   "cell_type": "markdown",
   "metadata": {},
   "source": [
    "머신러닝 프로젝트"
   ]
  },
  {
   "cell_type": "code",
   "execution_count": 4,
   "metadata": {},
   "outputs": [
    {
     "name": "stdout",
     "output_type": "stream",
     "text": [
      "[0 0 4 6 6 4 3 0 0 4]\n",
      "[1 0 1 1 1 1 0 0 1 0]\n",
      "[6 3 2 3 4 0 1 6 2 3] 40\n",
      "[1 1 0 0 1 0 1 1 1 0] 40\n",
      "[0 2 4 3 3 9 0 3 8 4] 10\n",
      "[1 1 1 0 0 0 0 1 0 1] 10\n"
     ]
    },
    {
     "data": {
      "text/plain": [
       "'\\nfeature_data = np.random.randint(0,10,50)\\nlabel_data = np.random.randint(0,2,50)\\n\\nfeature_train, teature_test,label_train, label_test = train_test_split(feature_data,label_data,test_size=0.3,random_state=42) #0.3 은 30%로 테스트\\nprint(train_test_split)'"
      ]
     },
     "execution_count": 4,
     "metadata": {},
     "output_type": "execute_result"
    }
   ],
   "source": [
    "from sklearn.model_selection import train_test_split\n",
    "import numpy as np\n",
    "import pandas as pd\n",
    "import matplotlib.pyplot as plt\n",
    "\n",
    "x = np.random.randint(0,10,50)\n",
    "y = np.random.randint(0,2,50)\n",
    "\n",
    "print(x[:10])\n",
    "print(y[:10])\n",
    "\n",
    "train_x, test_x , train_y,test_y = train_test_split(x,y,test_size = 0.2, random_state=2025)\n",
    "\n",
    "print(train_x[:10],len(train_x))\n",
    "print(train_y[:10],len(train_y))\n",
    "print(test_x[:10],len(test_x))\n",
    "print(test_y[:10],len(test_y))\n",
    "'''\n",
    "feature_data = np.random.randint(0,10,50)\n",
    "label_data = np.random.randint(0,2,50)\n",
    "\n",
    "feature_train, teature_test,label_train, label_test = train_test_split(feature_data,label_data,test_size=0.3,random_state=42) #0.3 은 30%로 테스트\n",
    "print(train_test_split)'''"
   ]
  },
  {
   "cell_type": "code",
   "execution_count": null,
   "metadata": {},
   "outputs": [],
   "source": []
  },
  {
   "cell_type": "code",
   "execution_count": null,
   "metadata": {},
   "outputs": [],
   "source": []
  }
 ],
 "metadata": {
  "kernelspec": {
   "display_name": "base",
   "language": "python",
   "name": "python3"
  },
  "language_info": {
   "codemirror_mode": {
    "name": "ipython",
    "version": 3
   },
   "file_extension": ".py",
   "mimetype": "text/x-python",
   "name": "python",
   "nbconvert_exporter": "python",
   "pygments_lexer": "ipython3",
   "version": "3.12.3"
  }
 },
 "nbformat": 4,
 "nbformat_minor": 2
}
