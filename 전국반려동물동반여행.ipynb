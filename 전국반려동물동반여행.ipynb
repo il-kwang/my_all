{
 "cells": [
  {
   "cell_type": "markdown",
   "metadata": {},
   "source": [
    "전국반려동물동반여행\n",
    "내 근처 위치기반으로 가볼 만한곳을 추천해줄 수 있다.\n",
    "카테고리 별로 여행지를 추천해준다.\n",
    "데이터 시각화\n",
    "다른 데이터와 연계 1. 기상 정보와 결합 2.숙박 정보와 연계 3.SNS/블로그 후기 분석 - Naver,Kakao, 구글 지도리뷰 등 관련 후기 데이터를 수집(스크래핑)하여 텍스트 분석을 해볼 수 있다.\n",
    "\n",
    "번외.\n",
    "스크래핑 학습 시 추천 순서\n",
    "HTML 구조 이해 & requests/BeautifulSoup\n",
    "\n",
    "웹 페이지의 HTML 태그 구조를 파악하는 방법\n",
    "requests로 페이지를 가져오고, BeautifulSoup으로 원하는 요소를 파싱하는 기본 스킬\n",
    "Selenium 등 동적 페이지 처리\n",
    "\n",
    "자바스크립트로 동적으로 생성되는 콘텐츠가 많다면, Selenium을 사용해 실제 브라우저 환경에서 렌더링된 HTML을 받아와야 할 수 있음\n",
    "에러 핸들링, 우회, IP 차단 방지\n",
    "\n",
    "스크래핑 시 반복 요청으로 인해 서버에서 차단당하지 않도록 적절한 딜레이를 두거나, 로봇 배제 표준을 준수하는 등 고려사항\n",
    "데이터 저장 & 후처리\n",
    "\n",
    "크롤링/스크래핑 한 데이터를 CSV, DB 등에 저장하고, 추후 분석하거나 시각화할 수 있도록 정리"
   ]
  },
  {
   "cell_type": "code",
   "execution_count": 4,
   "metadata": {},
   "outputs": [],
   "source": [
    "import urllib.parse\n",
    "\n",
    "#키에 특수문자가 있는 경우 역슬레시 x 엔코딩 작업을 해줘야 될 수 있음. 지금도 같은 현상.\n",
    "my_decode = 'nv5tYuJFlIQZvzKYxjcJz/FinGecU3f1zjN44g4y/YmqKD/pzXylicG1oI/Xdv5tWN+BzqtJnv+r1tJ/mot5Rg=='\n",
    "\n"
   ]
  },
  {
   "cell_type": "code",
   "execution_count": 5,
   "metadata": {},
   "outputs": [
    {
     "name": "stdout",
     "output_type": "stream",
     "text": [
      "code=1 = name=서울\n",
      "rnum = 1\n",
      "code=2 = name=인천\n",
      "rnum = 2\n",
      "code=3 = name=대전\n",
      "rnum = 3\n",
      "code=4 = name=대구\n",
      "rnum = 4\n",
      "code=5 = name=광주\n",
      "rnum = 5\n",
      "code=6 = name=부산\n",
      "rnum = 6\n",
      "code=7 = name=울산\n",
      "rnum = 7\n",
      "code=8 = name=세종특별자치시\n",
      "rnum = 8\n",
      "code=31 = name=경기도\n",
      "rnum = 9\n",
      "code=32 = name=강원특별자치도\n",
      "rnum = 10\n"
     ]
    }
   ],
   "source": [
    "import requests\n",
    "#params 사용 시 인코딩 키 쿼리 사용시 인코딩 키 구분 해야 됨 \n",
    "url = 'http://apis.data.go.kr/B551011/KorPetTourService/areaCode'\n",
    "\n",
    "params = {\n",
    "    'serviceKey': my_decode,\n",
    "    'MobileOS': 'ETC',\n",
    "    'MobileApp': '멍멍',\n",
    "    '_type' : 'json'\n",
    "}\n",
    "\n",
    "response = requests.get(url, params=params)\n",
    "#print(response.status_code)  # HTTP 상태 코드 출력\n",
    "#print(response.content)      # 응답 내용 출력\n",
    "if response.status_code == 200:\n",
    "    data = response.json()\n",
    "    items = data[\"response\"][\"body\"][\"items\"][\"item\"]\n",
    "    for item in items:\n",
    "        code = item.get(\"code\")\n",
    "        name = item.get(\"name\")\n",
    "        rnum = item.get(\"rnum\")\n",
    "        print(f\"code={code} = name={name}\")\n",
    "        print(f\"rnum = {rnum}\")\n",
    "else:\n",
    "    print(f\"Error Code: {response.status_code}\")"
   ]
  },
  {
   "cell_type": "code",
   "execution_count": null,
   "metadata": {},
   "outputs": [],
   "source": []
  }
 ],
 "metadata": {
  "kernelspec": {
   "display_name": "base",
   "language": "python",
   "name": "python3"
  },
  "language_info": {
   "codemirror_mode": {
    "name": "ipython",
    "version": 3
   },
   "file_extension": ".py",
   "mimetype": "text/x-python",
   "name": "python",
   "nbconvert_exporter": "python",
   "pygments_lexer": "ipython3",
   "version": "3.12.3"
  }
 },
 "nbformat": 4,
 "nbformat_minor": 2
}
