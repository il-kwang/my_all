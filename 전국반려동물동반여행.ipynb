{
 "cells": [
  {
   "cell_type": "code",
   "execution_count": null,
   "metadata": {},
   "outputs": [],
   "source": [
    "import requests\n",
    "import urllib.parse\n",
    "\n",
    "#키에 특수문자가 있는 경우 역슬레시 x 엔코딩 작업을 해줘야 될 수 있음. 지금도 같은 현상.\n",
    "my_decode = 'nv5tYuJFlIQZvzKYxjcJz/FinGecU3f1zjN44g4y/YmqKD/pzXylicG1oI/Xdv5tWN+BzqtJnv+r1tJ/mot5Rg=='\n",
    "encode_api_key = 'nv5tYuJFlIQZvzKYxjcJz%2FFinGecU3f1zjN44g4y%2FYmqKD%2FpzXylicG1oI%2FXdv5tWN%2BBzqtJnv%2Br1tJ%2Fmot5Rg%3D%3D'\n",
    "API_KEY = 'nv5tYuJFlIQZvzKYxjcJz%2FFinGecU3f1zjN44g4y%2FYmqKD%2FpzXylicG1oI%2FXdv5tWN%2BBzqtJnv%2Br1tJ%2Fmot5Rg%3D%3D'\n",
    "encode = urllib.parse.quote(encode_api_key,safe='')\n",
    "\n"
   ]
  },
  {
   "cell_type": "code",
   "execution_count": 35,
   "metadata": {},
   "outputs": [
    {
     "name": "stdout",
     "output_type": "stream",
     "text": [
      "code=1 = name=서울\n",
      "rnum = 1\n",
      "code=2 = name=인천\n",
      "rnum = 2\n",
      "code=3 = name=대전\n",
      "rnum = 3\n",
      "code=4 = name=대구\n",
      "rnum = 4\n",
      "code=5 = name=광주\n",
      "rnum = 5\n",
      "code=6 = name=부산\n",
      "rnum = 6\n",
      "code=7 = name=울산\n",
      "rnum = 7\n",
      "code=8 = name=세종특별자치시\n",
      "rnum = 8\n",
      "code=31 = name=경기도\n",
      "rnum = 9\n",
      "code=32 = name=강원특별자치도\n",
      "rnum = 10\n"
     ]
    }
   ],
   "source": [
    "import requests\n",
    "#params 사용 시 인코딩 키 쿼리 사용시 인코딩 키 구분 해야 됨 \n",
    "url = 'http://apis.data.go.kr/B551011/KorPetTourService/areaCode'\n",
    "\n",
    "params = {\n",
    "    'serviceKey': my_decode,\n",
    "    'MobileOS': 'ETC',\n",
    "    'MobileApp': '멍멍',\n",
    "    '_type' : 'json'\n",
    "}\n",
    "\n",
    "response = requests.get(url, params=params)\n",
    "#print(response.status_code)  # HTTP 상태 코드 출력\n",
    "#print(response.content)      # 응답 내용 출력\n",
    "if response.status_code == 200:\n",
    "    data = response.json()\n",
    "    items = data[\"response\"][\"body\"][\"items\"][\"item\"]\n",
    "    for item in items:\n",
    "        code = item.get(\"code\")\n",
    "        name = item.get(\"name\")\n",
    "        rnum = item.get(\"rnum\")\n",
    "        print(f\"code={code} = name={name}\")\n",
    "        print(f\"rnum = {rnum}\")\n",
    "else:\n",
    "    print(f\"Error Code: {response.status_code}\")"
   ]
  },
  {
   "cell_type": "code",
   "execution_count": null,
   "metadata": {},
   "outputs": [],
   "source": []
  }
 ],
 "metadata": {
  "kernelspec": {
   "display_name": "base",
   "language": "python",
   "name": "python3"
  },
  "language_info": {
   "codemirror_mode": {
    "name": "ipython",
    "version": 3
   },
   "file_extension": ".py",
   "mimetype": "text/x-python",
   "name": "python",
   "nbconvert_exporter": "python",
   "pygments_lexer": "ipython3",
   "version": "3.12.3"
  }
 },
 "nbformat": 4,
 "nbformat_minor": 2
}
