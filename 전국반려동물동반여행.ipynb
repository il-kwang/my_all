{
 "cells": [
  {
   "cell_type": "code",
   "execution_count": null,
   "metadata": {},
   "outputs": [
    {
     "name": "stdout",
     "output_type": "stream",
     "text": [
      "nv5tYuJFlIQZvzKYxjcJz%2FFinGecU3f1zjN44g4y%2FYmqKD%2FpzXylicG1oI%2FXdv5tWN%2BBzqtJnv%2Br1tJ%2Fmot5Rg%3D%3D\n",
      "nv5tYuJFlIQZvzKYxjcJz/FinGecU3f1zjN44g4y/YmqKD/pzXylicG1oI/Xdv5tWN+BzqtJnv+r1tJ/mot5Rg==\n"
     ]
    }
   ],
   "source": [
    "import requests\n",
    "import urllib.parse\n",
    "\n",
    "#키에 특수문자가 있는 경우 역슬레시 x 엔코딩 작업을 해줘야 될 수 있음. 지금도 같은 현상.\n",
    "encode_api_key = 'nv5tYuJFlIQZvzKYxjcJz%2FFinGecU3f1zjN44g4y%2FYmqKD%2FpzXylicG1oI%2FXdv5tWN%2BBzqtJnv%2Br1tJ%2Fmot5Rg%3D%3D'\n",
    "API_KEY = 'nv5tYuJFlIQZvzKYxjcJz%2FFinGecU3f1zjN44g4y%2FYmqKD%2FpzXylicG1oI%2FXdv5tWN%2BBzqtJnv%2Br1tJ%2Fmot5Rg%3D%3D'\n",
    "encode = urllib.parse.quote(encode_api_key)\n",
    "\n"
   ]
  },
  {
   "cell_type": "code",
   "execution_count": 32,
   "metadata": {},
   "outputs": [
    {
     "name": "stdout",
     "output_type": "stream",
     "text": [
      "b'<?xml version=\"1.0\" encoding=\"UTF-8\" standalone=\"yes\"?><response><header>\\n  <resultCode>0000</resultCode>\\n  <resultMsg>OK</resultMsg>\\n</header><body><items>\\n  <item>\\n    <rnum>1</rnum>\\n    <code>1</code>\\n    <name>\\xec\\x84\\x9c\\xec\\x9a\\xb8</name>\\n  </item>\\n  <item>\\n    <rnum>2</rnum>\\n    <code>2</code>\\n    <name>\\xec\\x9d\\xb8\\xec\\xb2\\x9c</name>\\n  </item>\\n  <item>\\n    <rnum>3</rnum>\\n    <code>3</code>\\n    <name>\\xeb\\x8c\\x80\\xec\\xa0\\x84</name>\\n  </item>\\n  <item>\\n    <rnum>4</rnum>\\n    <code>4</code>\\n    <name>\\xeb\\x8c\\x80\\xea\\xb5\\xac</name>\\n  </item>\\n  <item>\\n    <rnum>5</rnum>\\n    <code>5</code>\\n    <name>\\xea\\xb4\\x91\\xec\\xa3\\xbc</name>\\n  </item>\\n  <item>\\n    <rnum>6</rnum>\\n    <code>6</code>\\n    <name>\\xeb\\xb6\\x80\\xec\\x82\\xb0</name>\\n  </item>\\n  <item>\\n    <rnum>7</rnum>\\n    <code>7</code>\\n    <name>\\xec\\x9a\\xb8\\xec\\x82\\xb0</name>\\n  </item>\\n  <item>\\n    <rnum>8</rnum>\\n    <code>8</code>\\n    <name>\\xec\\x84\\xb8\\xec\\xa2\\x85\\xed\\x8a\\xb9\\xeb\\xb3\\x84\\xec\\x9e\\x90\\xec\\xb9\\x98\\xec\\x8b\\x9c</name>\\n  </item>\\n  <item>\\n    <rnum>9</rnum>\\n    <code>31</code>\\n    <name>\\xea\\xb2\\xbd\\xea\\xb8\\xb0\\xeb\\x8f\\x84</name>\\n  </item>\\n  <item>\\n    <rnum>10</rnum>\\n    <code>32</code>\\n    <name>\\xea\\xb0\\x95\\xec\\x9b\\x90\\xed\\x8a\\xb9\\xeb\\xb3\\x84\\xec\\x9e\\x90\\xec\\xb9\\x98\\xeb\\x8f\\x84</name>\\n  </item>\\n</items>  <numOfRows>10</numOfRows>\\n  <pageNo>1</pageNo>\\n  <totalCount>17</totalCount>\\n</body></response>'\n"
     ]
    }
   ],
   "source": [
    "url = 'http://apis.data.go.kr/B551011/KorPetTourService/areaCode?serviceKey={encode}&MobileOS=ETC&MobileApp=멍멍'\n",
    "#params ={'serviceKey' : 'decode_api_key', 'MobileOS' : 'ETC','MobileApp':'멍멍' }\n",
    "\n",
    "response = requests.get(url)\n",
    "print(response.content)"
   ]
  },
  {
   "cell_type": "code",
   "execution_count": null,
   "metadata": {},
   "outputs": [],
   "source": []
  }
 ],
 "metadata": {
  "kernelspec": {
   "display_name": "base",
   "language": "python",
   "name": "python3"
  },
  "language_info": {
   "codemirror_mode": {
    "name": "ipython",
    "version": 3
   },
   "file_extension": ".py",
   "mimetype": "text/x-python",
   "name": "python",
   "nbconvert_exporter": "python",
   "pygments_lexer": "ipython3",
   "version": "3.12.7"
  }
 },
 "nbformat": 4,
 "nbformat_minor": 2
}
