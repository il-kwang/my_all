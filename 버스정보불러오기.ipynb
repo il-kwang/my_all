{
 "cells": [
  {
   "cell_type": "code",
   "execution_count": null,
   "metadata": {},
   "outputs": [
    {
     "data": {
      "text/plain": [
       "'nv5tYuJFlIQZvzKYxjcJz/FinGecU3f1zjN44g4y/YmqKD/pzXylicG1oI/Xdv5tWN+BzqtJnv+r1tJ/mot5Rg=='"
      ]
     },
     "execution_count": 29,
     "metadata": {},
     "output_type": "execute_result"
    }
   ],
   "source": [
    "import requests\n",
    "\n",
    "API_KEY = 'nv5tYuJFlIQZvzKYxjcJz%2FFinGecU3f1zjN44g4y%2FYmqKD%2FpzXylicG1oI%2FXdv5tWN%2BBzqtJnv%2Br1tJ%2Fmot5Rg%3D%3D' # 자신의 인증키\n",
    "API_KEY_decode = requests.utils.unquote(API_KEY)\n",
    "API_KEY_decodes"
   ]
  },
  {
   "cell_type": "code",
   "execution_count": null,
   "metadata": {},
   "outputs": [
    {
     "name": "stdout",
     "output_type": "stream",
     "text": [
      "b'<?xml version=\"1.0\" encoding=\"UTF-8\" standalone=\"yes\"?><ServiceResult><msgHeader><currentPage>1</currentPage><headerCd>2</headerCd><headerMsg>\\xed\\x95\\x84\\xec\\x88\\x98 \\xec\\x9a\\x94\\xec\\xb2\\xad Parameter\\xea\\xb0\\x80 \\xec\\xa1\\xb4\\xec\\x9e\\xac\\xed\\x95\\x98\\xec\\xa7\\x80 \\xec\\x95\\x8a\\xec\\x8a\\xb5\\xeb\\x8b\\x88\\xeb\\x8b\\xa4.</headerMsg><itemCnt>0</itemCnt><itemPageCnt>1</itemPageCnt></msgHeader><msgBody/></ServiceResult>'\n",
      "<Response [200]>\n"
     ]
    },
    {
     "ename": "NameError",
     "evalue": "name 'reqpage' is not defined",
     "output_type": "error",
     "traceback": [
      "\u001b[1;31m---------------------------------------------------------------------------\u001b[0m",
      "\u001b[1;31mNameError\u001b[0m                                 Traceback (most recent call last)",
      "Cell \u001b[1;32mIn[38], line 9\u001b[0m\n\u001b[0;32m      7\u001b[0m \u001b[38;5;28mprint\u001b[39m(response\u001b[38;5;241m.\u001b[39mcontent)\n\u001b[0;32m      8\u001b[0m \u001b[38;5;28mprint\u001b[39m(response)\u001b[38;5;66;03m#<Response [200]>\u001b[39;00m\n\u001b[1;32m----> 9\u001b[0m \u001b[38;5;28mprint\u001b[39m(reqpage)\n",
      "\u001b[1;31mNameError\u001b[0m: name 'reqpage' is not defined"
     ]
    }
   ],
   "source": [
    "#import requests\n",
    "\n",
    "url = 'http://openapitraffic.daejeon.go.kr/api/rest/busRouteInfo/getStaionByRoute'\n",
    "params ={'serviceKey' : 'API_KEY_decode', 'reqPage' : '11' }\n",
    "\n",
    "response = requests.get(url, params=params)\n",
    "print(response.content)\n",
    "print(response)#<Response [200]>\n",
    "print(reqpage)\n",
    "\n",
    "\n"
   ]
  },
  {
   "cell_type": "markdown",
   "metadata": {},
   "source": [
    "Open API 에러 코드 정리\n",
    "\n",
    "에러코드\t에러메세지\t설명\n",
    "0\tNORMAL_CODE\t정상\n",
    "1\tAPPLICATION_ERROR\t어플리케이션 에러\n",
    "2\tDB_ERROR\t데이터베이스 에러\n",
    "3\tNODATA_ERROR\t데이터없음 에러\n",
    "4\tHTTP_ERROR\tHTTP 에러\n",
    "5\tSERVICETIMEOUT_ERROR\t서비스 연결실패 에러\n",
    "10\tINVALID_REQUEST_PARAMETER_ERROR\t잘못된 요청 파라메터 에러\n",
    "11\tNO_MANDATORY_REQUEST_PARAMETERS_ERROR\t필수요청 파라메터가 없음\n",
    "12\tNO_OPENAPI_SERVICE_ERROR\t해당 오픈API서비스가 없거나 폐기됨\n",
    "20\tSERVICE_ACCESS_DENIED_ERROR\t서비스 접근거부\n",
    "21\tTEMPORARILY_DISABLE_THE_SERVICEKEY_ERROR\t일시적으로 사용할 수 없는 서비스 키\n",
    "22\tLIMITED_NUMBER_OF_SERVICE_REQUESTS_EXCEEDS_ERROR\t서비스 요청제한횟수 초과에러\n",
    "30\tSERVICE_KEY_IS_NOT_REGISTERED_ERROR\t등록되지 않은 서비스키\n",
    "31\tDEADLINE_HAS_EXPIRED_ERROR\t기한만료된 서비스키\n",
    "32\tUNREGISTERED_IP_ERROR\t등록되지 않은 IP\n",
    "33\tUNSIGNED_CALL_ERROR\t서명되지 않은 호출\n",
    "99\tUNKNOWN_ERROR\t기타에러\n",
    "\n"
   ]
  }
 ],
 "metadata": {
  "kernelspec": {
   "display_name": "base",
   "language": "python",
   "name": "python3"
  },
  "language_info": {
   "codemirror_mode": {
    "name": "ipython",
    "version": 3
   },
   "file_extension": ".py",
   "mimetype": "text/x-python",
   "name": "python",
   "nbconvert_exporter": "python",
   "pygments_lexer": "ipython3",
   "version": "3.9.12"
  }
 },
 "nbformat": 4,
 "nbformat_minor": 2
}
